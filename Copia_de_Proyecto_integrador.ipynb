{
  "nbformat": 4,
  "nbformat_minor": 0,
  "metadata": {
    "colab": {
      "provenance": [],
      "include_colab_link": true
    },
    "kernelspec": {
      "name": "python3",
      "display_name": "Python 3"
    },
    "language_info": {
      "name": "python"
    }
  },
  "cells": [
    {
      "cell_type": "markdown",
      "metadata": {
        "id": "view-in-github",
        "colab_type": "text"
      },
      "source": [
        "<a href=\"https://colab.research.google.com/github/CD1974/CD1974/blob/main/Copia_de_Proyecto_integrador.ipynb\" target=\"_parent\"><img src=\"https://colab.research.google.com/assets/colab-badge.svg\" alt=\"Open In Colab\"/></a>"
      ]
    },
    {
      "cell_type": "code",
      "execution_count": null,
      "metadata": {
        "id": "_isxYGib9hOR"
      },
      "outputs": [],
      "source": []
    },
    {
      "cell_type": "markdown",
      "source": [
        "Dataset: https://www.kaggle.com/datasets/bismasajjad/global-ai-job-market-and-salary-trends-2025\n",
        "\n",
        "\n",
        "❓\n",
        "* Por qué es importante este análisis?\n",
        "* Qué problema se busca resolver? / Qué pregunta se busca responder?\n",
        "\n",
        "\n",
        "1. Analizar Dataset\n",
        "2. Definir preguntas / problemas principales para saber qué queremos lograr\n",
        "3. Establecer objetivos\n",
        "\n",
        "\n",
        "\n",
        "\n",
        "\n",
        "\n",
        "\n",
        "\n",
        "\n"
      ],
      "metadata": {
        "id": "YcA6_yhC57Qe"
      }
    },
    {
      "cell_type": "markdown",
      "source": [
        "## Sección 1: Carga y Limpieza de Datos\n",
        "- Integrante :"
      ],
      "metadata": {
        "id": "KMqC9XsSfWvb"
      }
    },
    {
      "cell_type": "code",
      "source": [],
      "metadata": {
        "id": "iPpq5w2nft4e"
      },
      "execution_count": null,
      "outputs": []
    },
    {
      "cell_type": "markdown",
      "source": [
        "## Sección 2: Consultas SQL\n",
        "- Integrante:"
      ],
      "metadata": {
        "id": "YA4RNU1ofwfa"
      }
    },
    {
      "cell_type": "code",
      "source": [],
      "metadata": {
        "id": "gtsc_uSCf7FZ"
      },
      "execution_count": null,
      "outputs": []
    },
    {
      "cell_type": "markdown",
      "source": [
        "## Sección 3: Análisis con Python\n",
        "- Integrante:"
      ],
      "metadata": {
        "id": "i2hL9BtvgAGn"
      }
    },
    {
      "cell_type": "code",
      "source": [],
      "metadata": {
        "id": "8MD025VngJ8J"
      },
      "execution_count": null,
      "outputs": []
    },
    {
      "cell_type": "markdown",
      "source": [
        "## Sección 4: Preparación de datos para Power BI.\n",
        "- Integrante:"
      ],
      "metadata": {
        "id": "boL4NFt-gY9Y"
      }
    },
    {
      "cell_type": "code",
      "source": [],
      "metadata": {
        "id": "liHL_5pCglEF"
      },
      "execution_count": null,
      "outputs": []
    }
  ]
}